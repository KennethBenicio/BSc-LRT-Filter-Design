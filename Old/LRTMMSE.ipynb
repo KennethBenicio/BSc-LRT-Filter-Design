{
 "cells": [
  {
   "cell_type": "markdown",
   "metadata": {},
   "source": [
    "<h1><center> Low Rank Tensor Minimum Mean Square Error Filter Design</center></h1>"
   ]
  },
  {
   "cell_type": "code",
   "execution_count": 6,
   "metadata": {},
   "outputs": [
    {
     "name": "stderr",
     "output_type": "stream",
     "text": [
      "Using numpy backend.\n"
     ]
    }
   ],
   "source": [
    "import numpy as np\n",
    "import tensorly as tl\n",
    "import matplotlib.pyplot as plt\n",
    "\n",
    "#from numpy import linalg as lg\n",
    "#from numpy import random as rd\n",
    "\n",
    "np.set_printoptions(3)"
   ]
  },
  {
   "cell_type": "markdown",
   "metadata": {},
   "source": [
    "## Multiple User MIMO System\n",
    "\n",
    "In this presentation is considered a single transmission cell with only one Base Station(BS) receiving signals from U Users Equipments(UE) in the uplink scenario. Each UE is equipped with only one omni-directional antenna and the BS employs a Uniform Linear Array(ULA) of N omni-directional antennas whose axis is parallel to the ground plane. If the carrier wavelength is $\\lambda$ the spacing between the array antennas is considered to be $d = \\frac{\\lambda}{2}$. Our objective here is to filter a specific signal send by one of the UEs to the BS using tools from Tensor Algebra and also minimize the effects of noise and interference presented in the channel."
   ]
  },
  {
   "cell_type": "markdown",
   "metadata": {},
   "source": [
    "## Channel Model\n",
    "\n",
    "Channel Spatial Response: \n",
    "\n",
    "\\begin{equation}\n",
    "     \\mathbf{a}(\\theta_{l,u}) = [1, ...,  e^{-j \\pi (N - 1) \\cos(\\theta_{l,u})} ] \\in \\mathbb{C}^{Nx1}\n",
    "\\end{equation}\n",
    "\n",
    "Pulse-Shaping Waveform:\n",
    "\n",
    "\\begin{equation}\n",
    "    \\mathbf{g}(\\tau_{l,u}) = [g(-\\tau_{l,u}), ..., g((Q-1)T - \\tau_{l,u})]^{T} \\in \\mathbb{C}^{QX1}\n",
    "\\end{equation}\n",
    "        \n",
    "Channel Equation:\n",
    "\n",
    "\\begin{equation}\n",
    "     H_{u} = \\sum^{L - 1}_{l = 0} \\alpha_{l,u} a_{n}(\\theta_{l,u})  g(qT - \\tau_{l,u})^{T} \\in \\mathbb{C}^{NxQ}\n",
    "\\end{equation}\n",
    "\n",
    "Where $\\alpha_{l,u}$ is the complex channel gain and $\\tau_{l,u}$ is the propagation delay."
   ]
  },
  {
   "cell_type": "code",
   "execution_count": 7,
   "metadata": {},
   "outputs": [],
   "source": [
    "def channel(N,Q,L,U):\n",
    "    #N : Number of Antennas.\n",
    "    #Q : Size of the Buffer.\n",
    "    #L : Number of Multipaths per User.\n",
    "    #U : Number of Users.\n",
    "    \n",
    "    #Wavelength of the Carrier.\n",
    "    l = 1\n",
    "    #Speed of light\n",
    "    c = 3**8\n",
    "    #Symbol Period.    \n",
    "    T = 10**-5\n",
    "    #N antennas and Q bits of buffer.\n",
    "    h = np.zeros((N,Q))\n",
    "    \n",
    "    #Complex Channel Gain with zero mean and unitary variance.\n",
    "    alpha = (np.random.normal(0,1,[L,U]) + 1j*np.random.normal(0,1,[L,U]))\n",
    "    #alpha = (alpha - np.mean(alpha))/np.std(alpha)\n",
    "    alpha = alpha/np.sqrt(2)\n",
    "\n",
    "    #Angles of Arrival in the Antennas.\n",
    "    theta = -np.pi/2 + np.pi*np.random.rand(L,U)\n",
    "    \n",
    "    #Matrix of Collum Steering Vectors .\n",
    "    #To acess the l path from the u User Equipament use the notation svector[:,l,u].\n",
    "    n = np.linspace(0,N-1,N)\n",
    "    s = (1j*np.pi*n)[:,np.newaxis,np.newaxis]\n",
    "    svector = (np.exp(s*np.cos(theta)))[:,np.newaxis,:,:]\n",
    "    \n",
    "    #Propagation Delays for Each Receiver Antenna.\n",
    "    tau = l/(2*c*np.cos(theta))[:,:,np.newaxis,np.newaxis]\n",
    "    \n",
    "    #Pulse-shaping waveform.\n",
    "    q = np.linspace(0,Q-1,Q)\n",
    "    g = np.sinc(q*T - tau)\n",
    "    g = np.reshape(g,(1,Q,L,U))\n",
    "    \n",
    "    #Create a concatenation of all channels\n",
    "    h = (svector*g)\n",
    "    h = alpha*h\n",
    "    \n",
    "    #Multi-paths Combination\n",
    "    h = np.sum(h,axis = 2) \n",
    "    \n",
    "    #Creating a Tensor Channel that is given by H = [H1 H2 ... Hu]\n",
    "    h = tl.tensor(h)\n",
    "    h = tl.unfold(h,0)\n",
    "    #h = h/np.linalg.norm(h)\n",
    "    \n",
    "    return h"
   ]
  },
  {
   "cell_type": "code",
   "execution_count": 4,
   "metadata": {},
   "outputs": [
    {
     "name": "stdout",
     "output_type": "stream",
     "text": [
      "Angles of Arrival path x user:\n",
      "[[-36.092 -66.026]\n",
      " [-83.513 -73.17 ]\n",
      " [-68.823  -6.058]\n",
      " [ 41.032  23.216]]\n"
     ]
    }
   ],
   "source": [
    "L,U = 4,2\n",
    "theta = -np.pi/2 + np.pi*np.random.rand(L,U)\n",
    "\n",
    "print(\"Angles of Arrival path x user:\")\n",
    "print(np.degrees(theta))"
   ]
  },
  {
   "cell_type": "code",
   "execution_count": 5,
   "metadata": {},
   "outputs": [
    {
     "name": "stdout",
     "output_type": "stream",
     "text": [
      "(8, 4)\n"
     ]
    }
   ],
   "source": [
    "N,Q,L,U = 8,2,6,2\n",
    "h = channel(N,Q,L,U)\n",
    "print(h.shape)"
   ]
  },
  {
   "cell_type": "markdown",
   "metadata": {},
   "source": [
    "## Transmited Signal \n",
    "\n",
    "\\begin{equation}\n",
    "x_{n}[k] = \\sum^{U}_{u = 1} \\sum^{Q - 1}_{q = 0} \\sum^{L - 1}_{l = 0} \\alpha_{l,u} g(qT - \\tau_{l,u}) a_{n}(\\theta_{l,u}) s_{u}[k-q] + b_{n}[k] \\in \\mathcal{C}^{N \\times 1}\n",
    "\\end{equation}\n",
    "\n",
    "Matrix Notation:\n",
    "\n",
    "\\begin{equation}\n",
    "    \\mathbf{x}[k] = \\sum^{U}_{u = 1} \\mathbf{H}_{u} \\mathbf{s}_{u}[k] + \\mathbf{b}[k] \\in \\mathbb{C}^{NX1} \n",
    "\\end{equation}\n",
    "\n",
    "The Case of Analysis:\n",
    "\n",
    "\\begin{equation}\n",
    "    \\mathbf{x}[k] = \\mathbf{H}_{u} \\mathbf{s}_{u}[k] +  \\sum^{U}_{j \\neq u} \\mathbf{H}_{j} \\mathbf{s}_{j}[k] + \\mathbf{b}[k] \\in \\mathbb{C}^{NX1}\n",
    "\\end{equation}\n",
    "\n",
    "In the equation above is possible to perceived that every UE signal is being sending at a single antenna. Furthermore, is also important to say that the SNR in this problem is described by:\n",
    "\n",
    "\\begin{equation}\n",
    "    SNR = \\frac{\\sigma^{2}_{s}}{\\sigma^{2}_{n}}\n",
    "\\end{equation}"
   ]
  },
  {
   "cell_type": "code",
   "execution_count": 8,
   "metadata": {},
   "outputs": [],
   "source": [
    "def modulated_signal(K,U):\n",
    "    #K: Size of Transmited Signal.\n",
    "    #U: Number of Users.\n",
    "    \n",
    "    #BPSK Modulation for a group of random signals from UEs.\n",
    "    sm = np.random.randint(0,1+1,size = (K,U))\n",
    "    sm.real[sm.real == 0] = -1\n",
    "    \n",
    "    return sm"
   ]
  },
  {
   "cell_type": "code",
   "execution_count": 7,
   "metadata": {},
   "outputs": [
    {
     "name": "stdout",
     "output_type": "stream",
     "text": [
      "Transmited Signal from User 1:\n",
      "[ 1  1 -1  1 -1 -1  1 -1  1 -1  1  1 -1 -1  1 -1 -1 -1 -1  1  1 -1 -1 -1\n",
      "  1  1 -1 -1 -1 -1  1 -1 -1  1 -1  1  1  1  1 -1  1 -1 -1 -1 -1  1 -1  1\n",
      " -1  1  1  1  1  1 -1 -1 -1 -1 -1 -1  1  1 -1 -1]\n",
      "Mean: 0.125 Variance: 0.984375\n",
      "Transmited Signal from User 2\n",
      "[ 1 -1 -1  1  1 -1  1  1 -1 -1 -1  1  1  1  1 -1 -1  1  1  1  1  1  1  1\n",
      "  1  1  1  1 -1  1 -1 -1 -1  1  1  1  1 -1 -1 -1 -1  1 -1  1 -1 -1 -1  1\n",
      " -1  1 -1  1 -1  1  1 -1 -1  1  1 -1 -1 -1  1  1]\n",
      "Mean: 0.125 Variance: 0.984375\n",
      "Format of Transmited Signal:\n",
      "(64, 2)\n"
     ]
    }
   ],
   "source": [
    "K,U = 64,2\n",
    "sm = modulated_signal(K,U)\n",
    "\n",
    "print(\"Transmited Signal from User 1:\")\n",
    "print(sm[:,0])\n",
    "print(\"Mean:\",np.abs(np.mean(sm[:,0])),\"Variance:\",np.var(sm[:,0]))\n",
    "print(\"Transmited Signal from User 2\")\n",
    "print(sm[:,1])\n",
    "print(\"Mean:\",np.abs(np.mean(sm[:,1])),\"Variance:\",np.var(sm[:,1]))\n",
    "print(\"Format of Transmited Signal:\")\n",
    "print(sm.shape)"
   ]
  },
  {
   "cell_type": "code",
   "execution_count": 9,
   "metadata": {},
   "outputs": [],
   "source": [
    "def sampled_signal(sm,Q,K,U,k):\n",
    "    #sm: Modulated Signal.\n",
    "    #N : Number of Antennas.\n",
    "    #Q : Size of the Buffer.\n",
    "    #L : Number of Multipaths per User.\n",
    "    #K : Size of Transmited Signal.\n",
    "    #U : Number of Users.\n",
    "    #k : Instant of Sampling.\n",
    "    \n",
    "    S = np.zeros([U,Q])\n",
    "    \n",
    "    #This block simulates the change of signal throughout time in the buffer of data.\n",
    "    for i in range(0,U):\n",
    "        s = sm[:,i]\n",
    "        s = s[:,np.newaxis]\n",
    "        s = np.append(s,np.zeros([1,Q]))\n",
    "        s = s[k:k+Q]\n",
    "        s = (s[::-1])\n",
    "        S[i,:] = s\n",
    "        \n",
    "    #Its necessary that K > Q for now.\n",
    "    return S"
   ]
  },
  {
   "cell_type": "code",
   "execution_count": 9,
   "metadata": {},
   "outputs": [
    {
     "name": "stdout",
     "output_type": "stream",
     "text": [
      "[[ 1 -1  1  1  1  1 -1 -1 -1  1 -1  1  1  1  1  1 -1 -1 -1 -1 -1 -1 -1 -1\n",
      "  -1 -1 -1  1 -1  1 -1  1  1 -1  1 -1  1  1 -1  1 -1 -1 -1  1 -1  1 -1  1\n",
      "   1  1  1  1 -1 -1  1 -1  1 -1  1  1 -1 -1  1 -1]\n",
      " [ 1  1 -1 -1  1  1 -1 -1 -1  1 -1 -1 -1  1 -1  1 -1 -1  1 -1 -1  1  1 -1\n",
      "   1  1 -1 -1  1  1  1 -1 -1 -1 -1  1  1 -1  1  1  1 -1 -1 -1  1 -1 -1  1\n",
      "   1  1  1  1 -1  1 -1  1  1 -1  1 -1  1  1  1  1]]\n",
      "(64, 2)\n"
     ]
    }
   ],
   "source": [
    "Q,K,U = 8,64,2\n",
    "sm = modulated_signal(K,U)\n",
    "print(sm.T)\n",
    "print(sm.shape)"
   ]
  },
  {
   "cell_type": "code",
   "execution_count": 10,
   "metadata": {},
   "outputs": [
    {
     "name": "stdout",
     "output_type": "stream",
     "text": [
      "[[-1. -1.  1.  1.  1.  1. -1.  1.]\n",
      " [-1. -1.  1.  1. -1. -1.  1.  1.]]\n"
     ]
    }
   ],
   "source": [
    "k = 0\n",
    "S = sampled_signal(sm,Q,K,U,k)\n",
    "print(S)"
   ]
  },
  {
   "cell_type": "code",
   "execution_count": 11,
   "metadata": {},
   "outputs": [],
   "source": [
    "K,U = 16,3\n",
    "sm = modulated_signal(K,U)"
   ]
  },
  {
   "cell_type": "code",
   "execution_count": 10,
   "metadata": {},
   "outputs": [],
   "source": [
    "def sampled_matrix(sm,K,Q,U):\n",
    "    \n",
    "    SS = tl.tensor(np.zeros([K,Q,U]))\n",
    "    \n",
    "    for j in range(0,U):\n",
    "        for i in range(0,K):\n",
    "            S = sampled_signal(sm,Q,K,U,i)\n",
    "            SS[i,:,j] = S[j,:]\n",
    "\n",
    "    SS = np.transpose(SS)\n",
    "    SS = tl.unfold(SS,2)\n",
    "    return SS"
   ]
  },
  {
   "cell_type": "code",
   "execution_count": 13,
   "metadata": {},
   "outputs": [
    {
     "name": "stdout",
     "output_type": "stream",
     "text": [
      "[[-1. -1.  1. -1.  1. -1.  1. -1. -1.  1.  1.  1.]\n",
      " [ 1. -1. -1.  1. -1.  1. -1.  1.  1. -1.  1.  1.]\n",
      " [-1.  1. -1. -1. -1. -1.  1. -1.  1.  1. -1.  1.]\n",
      " [ 1. -1.  1. -1.  1. -1. -1.  1.  1.  1.  1. -1.]\n",
      " [ 1.  1. -1.  1. -1.  1. -1. -1.  1.  1.  1.  1.]\n",
      " [-1.  1.  1. -1. -1. -1.  1. -1.  1.  1.  1.  1.]\n",
      " [-1. -1.  1.  1.  1. -1. -1.  1.  1.  1.  1.  1.]\n",
      " [-1. -1. -1.  1. -1.  1. -1. -1.  1.  1.  1.  1.]\n",
      " [ 1. -1. -1. -1. -1. -1.  1. -1.  1.  1.  1.  1.]\n",
      " [-1.  1. -1. -1. -1. -1. -1.  1.  1.  1.  1.  1.]\n",
      " [ 1. -1.  1. -1. -1. -1. -1. -1. -1.  1.  1.  1.]\n",
      " [-1.  1. -1.  1.  1. -1. -1. -1. -1. -1.  1.  1.]\n",
      " [ 1. -1.  1. -1. -1.  1. -1. -1. -1. -1. -1.  1.]\n",
      " [ 0.  1. -1.  1.  0. -1.  1. -1.  0. -1. -1. -1.]\n",
      " [ 0.  0.  1. -1.  0.  0. -1.  1.  0.  0. -1. -1.]\n",
      " [ 0.  0.  0.  1.  0.  0.  0. -1.  0.  0.  0. -1.]]\n"
     ]
    }
   ],
   "source": [
    "Q = 4\n",
    "S = sampled_matrix(sm,K,Q,U)\n",
    "print(S)"
   ]
  },
  {
   "cell_type": "code",
   "execution_count": 11,
   "metadata": {},
   "outputs": [],
   "source": [
    "def received_signal(S,h,N,K,SNR_dB):\n",
    "    #S: Matrix of delayed signals.\n",
    "    #h: Channel Matrix.\n",
    "    #N: Number of Antennas.\n",
    "    #K: Buffer Sizer.\n",
    "    \n",
    "    SNR_Linear = 10**(SNR_dB/10)\n",
    "    b = (1/SNR_Linear)*(np.random.normal(0,1,[N,K]) + 1j*np.random.normal(0,1,[N,K]))\n",
    "    \n",
    "    X = h@np.transpose(S)\n",
    "    Y = X + b\n",
    "    \n",
    "    return Y,X"
   ]
  },
  {
   "cell_type": "code",
   "execution_count": 15,
   "metadata": {},
   "outputs": [
    {
     "name": "stdout",
     "output_type": "stream",
     "text": [
      "Signal Transmited to Filter:\n",
      "[[  1.854 +6.748j  -1.633 +5.517j   0.478 +5.046j ...   2.644 -3.694j\n",
      "    0.642 -7.086j  -2.094 -5.755j]\n",
      " [ -5.202 +0.516j   4.234 +6.755j -10.08 -10.122j ...   0.895 -2.839j\n",
      "    0.645 -2.665j   5.617 +4.012j]\n",
      " [  0.46  -4.883j -11.647 +3.559j   6.55  +1.907j ...   4.409 +4.214j\n",
      "    6.98  -1.927j  -1.863 -2.193j]\n",
      " ...\n",
      " [ -1.434-16.392j  -2.564+11.676j  -2.762-13.021j ...   2.109 +4.229j\n",
      "    2.971 -1.403j   1.808 +8.122j]\n",
      " [  8.501 +6.856j -15.4   -1.33j   11.152 +1.227j ...   1.434 -1.254j\n",
      "    6.636 -1.024j  -5.146 -2.85j ]\n",
      " [ -0.21  -0.952j  -0.921 -7.724j   0.481 -5.135j ...  -1.685 +2.065j\n",
      "    0.623 +7.316j   1.155 +4.623j]]\n",
      "Size of the Transmited Signal:\n",
      "(32, 512)\n"
     ]
    }
   ],
   "source": [
    "N,Q,L,U,K,SNR_dB = 32,8,4,4,512,30\n",
    "h = channel(N,Q,L,U)\n",
    "sm = modulated_signal(K,U)\n",
    "S = sampled_matrix(sm,K,Q,U)\n",
    "[Y,X] = received_signal(S,h,N,K,SNR_dB)\n",
    "\n",
    "print(\"Signal Transmited to Filter:\")\n",
    "print(Y)\n",
    "print(\"Size of the Transmited Signal:\")\n",
    "print(Y.shape)"
   ]
  },
  {
   "cell_type": "markdown",
   "metadata": {},
   "source": [
    "## Equalizer Filter Problem\n",
    "\n",
    "A equalizer filter that can extract the desired signal from the received ones and compensate for channel distortions, multi-use interference and noise is considered. Let $\\mathbf{w} \\in \\mathbb{C}^{Nx1}$ be the filter weights vector, the equalizer output can be written as:\n",
    "\n",
    "\\begin{equation}\n",
    "    y[k] = \\mathbf{w}^{H} \\mathbf{x}[k]\n",
    "\\end{equation}\n",
    "\n",
    "The Minimum Square Error(MSE) is considered as optimization metric, therefore the equalizer design problem can be formulated as:\n",
    "\n",
    "\\begin{equation}\n",
    "    \\underset{\\mathbf{w_{d}}}{\\text{minimize}} \\mathbb{E}[|s_{u}[k - \\delta] - y[k]|^{2}]    \n",
    "\\end{equation}"
   ]
  },
  {
   "cell_type": "markdown",
   "metadata": {},
   "source": [
    "## Linear MMSE"
   ]
  },
  {
   "cell_type": "code",
   "execution_count": 7,
   "metadata": {},
   "outputs": [],
   "source": [
    "def linear_mmse(Y,S,K,N):\n",
    "    \n",
    "    Ryy = (Y@np.conj(Y).T)/K\n",
    "    P   = Y@np.conj(S[:,0])/K\n",
    "    \n",
    "    #w_lmmse >> NXQU\n",
    "    w_lmmse = (np.linalg.inv(Ryy)@P)[:,np.newaxis]\n",
    "    Y_Filtered = np.zeros([N,K],dtype = 'complex')\n",
    "    \n",
    "    for i in range(0,N):\n",
    "        w = (np.conj(w_lmmse[i,:]).T)[:,np.newaxis]\n",
    "        Y_Filtered[i,:] = np.multiply(w,Y[i,:])\n",
    "        \n",
    "    return Y_Filtered"
   ]
  },
  {
   "cell_type": "code",
   "execution_count": 21,
   "metadata": {},
   "outputs": [],
   "source": [
    "N,Q,L,U,K,SNR_dB = 6,3,4,4,512,15\n",
    "h = channel(N,Q,L,U)\n",
    "sm = modulated_signal(K,U)\n",
    "S = sampled_matrix(sm,K,Q,U)\n",
    "[Y,X] = received_signal(S,h,N,K,SNR_dB)\n",
    "Y_Filtered = linear_mmse(Y,S,K,N)"
   ]
  },
  {
   "cell_type": "code",
   "execution_count": 22,
   "metadata": {},
   "outputs": [
    {
     "name": "stdout",
     "output_type": "stream",
     "text": [
      "Filtered Signal X Shape:\n",
      "(6, 512)\n",
      "Source Signal Shape:\n",
      "(6, 512)\n"
     ]
    },
    {
     "name": "stderr",
     "output_type": "stream",
     "text": [
      "/home/kennethb/anaconda3/lib/python3.7/site-packages/numpy/core/_asarray.py:85: ComplexWarning: Casting complex values to real discards the imaginary part\n",
      "  return array(a, dtype, copy=False, order=order)\n",
      "/home/kennethb/anaconda3/lib/python3.7/site-packages/numpy/core/_asarray.py:85: ComplexWarning: Casting complex values to real discards the imaginary part\n",
      "  return array(a, dtype, copy=False, order=order)\n"
     ]
    },
    {
     "data": {
      "image/png": "[encoded data removed]",
      "text/plain": [
       "<Figure size 432x288 with 1 Axes>"
      ]
     },
     "metadata": {
      "needs_background": "light"
     },
     "output_type": "display_data"
    },
    {
     "name": "stderr",
     "output_type": "stream",
     "text": [
      "/home/kennethb/anaconda3/lib/python3.7/site-packages/numpy/core/_asarray.py:85: ComplexWarning: Casting complex values to real discards the imaginary part\n",
      "  return array(a, dtype, copy=False, order=order)\n",
      "/home/kennethb/anaconda3/lib/python3.7/site-packages/numpy/core/_asarray.py:85: ComplexWarning: Casting complex values to real discards the imaginary part\n",
      "  return array(a, dtype, copy=False, order=order)\n"
     ]
    },
    {
     "data": {
      "image/png": "[encoded data removed]",
      "text/plain": [
       "<Figure size 432x288 with 1 Axes>"
      ]
     },
     "metadata": {
      "needs_background": "light"
     },
     "output_type": "display_data"
    }
   ],
   "source": [
    "print('Filtered Signal X Shape:')\n",
    "print(Y_Filtered.shape)\n",
    "print('Source Signal Shape:')\n",
    "print(X.shape)\n",
    "\n",
    "plt.plot(X[0,:],'r')\n",
    "plt.plot(Y_Filtered[0,:],'y')\n",
    "plt.show()\n",
    "\n",
    "plt.plot(X[0,:],'r')\n",
    "plt.plot(Y[0,:],'y')\n",
    "plt.show()"
   ]
  },
  {
   "cell_type": "markdown",
   "metadata": {},
   "source": [
    "## Low Rank Tensor MMSE\n",
    "\n",
    "Initially be the number of antennas N at the BS factorized as bellow so we can reshape the vector $\\mathbf{w}$ into a D-th order tensor $\\mathcal{W} \\in \\mathbb{C}^{N1x...xN_{D}}$. The same goes for vector $\\mathbf{x}[k]$ that is reshape in a tensor $\\mathcal{X}[k] \\in \\mathbb{C}^{N_{1}x...xN_{D}}$:\n",
    "    \n",
    "\\begin{equation}\n",
    "    N = \\prod^{D}_{d = 1} N_{d}     \n",
    "\\end{equation}\n",
    "        \n",
    "Considering that the tensor filter can be factorized as a Canonical Polyadic Decomposition(CPD):\n",
    "        \n",
    "\\begin{equation}\n",
    "    y[k] = \\mathbf{w}^{H} \\mathbf{x}[k] = \\langle \\mathcal{X}[k], \\mathcal{W} \\rangle = \\sum^{N_{1},...N_{D}}_{n_{1}, ..., n_{D} = 1} x_{n_{1}, ..., n_{D}}[k] [\\mathcal{W}]^{*}_{n_{1}, ..., n_{D}} \n",
    "\\end{equation}\n",
    "        \n",
    "\\begin{equation}\n",
    "    y[k] = \\mathbf{w}^{H} \\mathbf{x}[k] = \\langle \\mathcal{X}[k], \\mathcal{W} \\rangle = \\sum^{N_{1},...N_{D}}_{n_{1}, ..., n_{D} = 1} x_{n_{1}, ..., n_{D}}[k] (\\sum^{R}_{r = 1} [w_{1,r}]^{*}_{n_{1}} ... [w_{D,r}]^{*}_{n_{D}})\n",
    "\\end{equation}\n",
    "\n",
    " Is possible to rewrite the previous equation with the aid of the n-mode product:\n",
    "        \n",
    "\\begin{equation}\n",
    "    y[k] = \\sum^{R}_{r = 1} \\mathcal{X}[k] \\times_{1} \\mathbf{w}^{H}_{1,r} ... \\times_{D} \\mathbf{w}^{H}_{D,r} \n",
    "\\end{equation}\n",
    "        \n",
    "Written the output in function of the d-th filter vector:\n",
    "        \n",
    "\\begin{equation}\n",
    "    y[k] = \\sum^{R}_{r = 1} \\mathbf{w}^{H}_{d,r} (\\mathcal{X}[k] \\times_{1} \\mathbf{w}^{H}_{1,r} ... \\times_{d - 1} \\mathbf{w}^{H}_{d - 1,r} \\times_{d + 1} \\mathbf{w}^{H}_{d + 1,r} ... \\times_{D} \\mathbf{w}^{H}_{D,r}) \n",
    "\\end{equation}\n",
    "        \n",
    "\\begin{equation}\n",
    "    y[k] = \\sum^{R}_{r = 1} \\mathbf{w}^{H}_{d,r} u_{d,r}[k] = \\mathbf{w}^{H}_{d} \\mathbf{u}_{d}[k]\n",
    "\\end{equation}\n",
    "\n",
    "he multilinear filter output can be used to reformulate the linear equalization problem:\n",
    "        \n",
    "\\begin{equation}\n",
    "    \\underset{\\mathbf{w_{d}}}{\\text{minimize}} \\mathbb{E}[|s_{u}[k - \\delta] - \\mathbf{w}^{H}_{d} \\mathbf{u}_{d}[k]|^{2}] , d \\in \\{ 1, ..., D \\}   \n",
    "\\end{equation}\n",
    "        \n",
    "This problem can be viewed as a low-dimensional MMSE scenario. Therefore, we can solve the equation for each mode until a convergence criterion is satisfied. The solution for this problem can be formulated as:\n",
    "        \n",
    "\\begin{equation}\n",
    "    \\mathbf{w}_{d,MMSE} = \\mathbf{R}^{-1}_{u_{d},u_{d}} \\mathbf{p}_{u_{d}} \\in \\mathbb{C}^{RN_{d}X1}\n",
    "\\end{equation}\n",
    "        \n",
    "\\begin{equation}\n",
    "    \\mathbf{R}_{u_{d},u_{d}} = \\mathbb{E} [\\mathbf{u_{d}}[k] \\mathbf{u}^{H}_{d}[k]] \\in \\mathbb{C}^{RN_{d}XRN_{d}}\n",
    "\\end{equation}\n",
    "        \n",
    "\\begin{equation}\n",
    "    \\mathbf{p}_{u_{d}} = \\mathbb{E} [\\mathbf{u_{d}}[k] \\mathbf{s}^{*}_{u}[k - \\delta]] \\in \\mathbb{C}^{RN_{d}X1}\n",
    "\\end{equation}\n",
    "\n",
    " The previous statistics can be approximated as:\n",
    "        \n",
    "\\begin{equation}\n",
    "    \\mathbf{R}_{u_{d},u_{d}} \\approx \\frac{\\mathbf{U}_{d} \\mathbf{U}^{H}_{d}}{K} \\in \\mathbb{C}^{RN_{d}XRN_{d}}\n",
    "\\end{equation}\n",
    "        \n",
    "\\begin{equation}\n",
    "    \\mathbf{p}_{u_{d}} \\approx \\frac{\\mathbf{U}_{d} \\mathbf{s}^{*}_{u}}{K} \\in \\mathbb{C}^{RN_{d}X1}\n",
    "\\end{equation}\n",
    "        \n",
    "Where the matrix $\\mathbf{U}_{d}$ can be defined as:\n",
    "        \n",
    "\\begin{equation}\n",
    "    \\mathbf{U}_{d} = [\\mathbf{U}^{T}_{d,1}, ..., \\mathbf{U}^{T}_{d,R}]^{T} \\in \\mathbb{C}^{RN_{d}XR}\n",
    "\\end{equation}\n",
    "        \n",
    "\\begin{equation}\n",
    "    \\mathbf{U}_{d,r} = \\mathcal{X}[k] \\times_{1} \\mathbf{w}^{H}_{1,r} ... \\times_{d - 1} \\mathbf{w}^{H}_{d - 1,r} \\times_{d + 1} \\mathbf{w}^{H}_{d + 1,r} ... \\times_{D} \\mathbf{w}^{H}_{D,r} \\in \\mathbb{C}^{RN_{d}X1}\n",
    "\\end{equation}"
   ]
  },
  {
   "cell_type": "markdown",
   "metadata": {},
   "source": [
    "## LR-TMMSE Filter Design"
   ]
  },
  {
   "cell_type": "code",
   "execution_count": 318,
   "metadata": {},
   "outputs": [],
   "source": [
    "def LRTMMSE_filter(Y,K,N_d,signal_matrix,signal_user,user):\n",
    "    #Y: Signal received of dimensions NxK\n",
    "    #K: Size of the signal source.\n",
    "    #N_d: Antena factorization that respects the following propertie of \n",
    "    # N = (np.prod(N_d))\n",
    "    #signal_matrix: Matrix of delayed signals.\n",
    "    #signal_user: Source signals before delayed and formating.\n",
    "    #user: The user that has the desirable signal to filter from the massive \n",
    "    # data Y.\n",
    "    #OBS: This code will be projected to work with a fixed value of order D e \n",
    "    # rank R for tensors for the sake of simplicity.\n",
    "        \n",
    "    # RESHAPE = dim externa .... dim externa linha coluna\n",
    "\n",
    "\n",
    "    #Order of decomposition that'll be used in the antena factorization.\n",
    "    D = 3\n",
    "    #Ranking of the filter that'll be constructed.\n",
    "    R = 3\n",
    "    #Constant to be used in future approximations.\n",
    "    epsilon = 1\n",
    "    \n",
    "    #Selecting the desireable user signal from all the source signals received.\n",
    "    signal_user = signal_user[:, user] # Um user por vez\n",
    "    \n",
    "    #Inicializing all the linear filters in a tensor filter.\n",
    "    #w = tl.tensor(np.zeros([np.prod(N_d)]).reshape(N_d))\n",
    "    #OBS: This could add indesirable interference to the first frontal slice of \n",
    "    # tensor since the degrees of freedom would be reduced. \n",
    "    \n",
    "    #Inicializing all the linear filters in a matrix like structure.\n",
    "    w_d0 = np.zeros([N_d[0],R],dtype='complex') \n",
    "    w_d0[0,:] = np.random.rand(R)\n",
    "    w_d1 = np.zeros([N_d[1],R],dtype='complex') \n",
    "    w_d1[0,:] = np.random.rand(R)\n",
    "    w_d2 = np.zeros([N_d[2],R],dtype='complex') \n",
    "    w_d2[0,:] = np.random.rand(R)\n",
    "    \n",
    "    #Identity Tensor.\n",
    "    I = np.zeros((D,)*R)\n",
    "    I[tuple([np.arange(D)]*R)] = 1\n",
    "    \n",
    "    #Creating a tensor from the received signal.\n",
    "    #Y_tensor = tl.tensor(Y.reshape(N_d[0],N_d[1],N_d[2],K))\n",
    "    Y_tensor = tl.tensor(Y.reshape(K, N_d[2], N_d[0], N_d[1]))\n",
    "\n",
    "    #OBS: Is important to note here that np.reshape() in python run through \n",
    "    # the rows and not through the columns.\n",
    "    \n",
    "    #Creating a serie of tensors to storage data from matrices U_dr to be \n",
    "    # used in future processing of filter coefficients.\n",
    "    #U = tl.tensor(np.ones((D,R,3,3),dtype=\"complex\"))\n",
    "    u_d0 = tl.tensor(np.zeros([R, N_d[0], K],dtype = 'complex'))\n",
    "    u_d1 = tl.tensor(np.zeros([R, N_d[1], K],dtype = 'complex'))\n",
    "    u_d2 = tl.tensor(np.zeros([R, N_d[2], K],dtype = 'complex'))\n",
    "    \n",
    "    \n",
    "    #Creating matrices to storage statistical data to be used in future \n",
    "    # processing of filter coefficients.\n",
    "    Rxx_d0 = np.zeros([R*N_d[0],R*N_d[0]],dtype = 'complex')\n",
    "    Rxx_d1 = np.zeros([R*N_d[1],R*N_d[1]],dtype = 'complex')\n",
    "    Rxx_d2 = np.zeros([R*N_d[2],R*N_d[2]],dtype = 'complex')\n",
    "    \n",
    "    P_d0 = np.zeros([R*N_d[0],1],dtype = 'complex') \n",
    "    P_d1 = np.zeros([R*N_d[1],1],dtype = 'complex')\n",
    "    P_d2 = np.zeros([R*N_d[2],1],dtype = 'complex')\n",
    "    \n",
    "    #This statement is necessary to prevent the algorithm to do unnecessary \n",
    "    # calculations, since the convergence criterion should be achieved in until \n",
    "    # 5 attempts.\n",
    "    i = 0\n",
    "    while i < 10:\n",
    "        for j in range(0,D):\n",
    "            for k in range(0,R):\n",
    "                if j == 0: # EQ (18) 256 2 8 4 // 8 4 2\n",
    "                    u_d0[k] = (tl.tenalg.multi_mode_dot(Y_tensor, [w_d1[:,k].conj().T, w_d2[:,k].conj().T], modes=[3,1])).T\n",
    "                \n",
    "                if j == 1:\n",
    "                    u_d1[k] = (tl.tenalg.multi_mode_dot(Y_tensor, [w_d0[:,k].conj().T, w_d2[:,k].conj().T],  modes=[2,1])).T\n",
    "                    \n",
    "                else:\n",
    "                    u_d2[k] = (tl.tenalg.multi_mode_dot(Y_tensor, [w_d0[:,k].conj().T, w_d1[:,k].conj().T],modes=[2,3])).T\n",
    "                    \n",
    "            #OBS: The np.hstack is a column-wise operation.      \n",
    "            if j == 0:\n",
    "                u0 = np.hstack(np.moveaxis(u_d0, 1, 2)).T\n",
    "                Rxx_d0 = (u0@(np.conj(u0).T))/K\n",
    "                P_d0 = (u0@(np.conj(signal_user)))/K\n",
    "                w0 = np.linalg.inv(Rxx_d0)@P_d0\n",
    "                \n",
    "            if j == 1:\n",
    "                u1 = np.hstack(np.moveaxis(u_d1, 1, 2)).T\n",
    "                Rxx_d1 = (u1@(np.conj(u1).T))/K\n",
    "                P_d1 = (u1@(np.conj(signal_user)))/K\n",
    "                w1 = np.linalg.inv(Rxx_d1)@P_d1\n",
    "                \n",
    "            else:\n",
    "                u2 = np.hstack(np.moveaxis(u_d2, 1, 2)).T   \n",
    "                Rxx_d2 = (u2@(np.conj(u2).T))/K\n",
    "                P_d2 = (u2@(np.conj(signal_user)))/K             \n",
    "                w2 = np.linalg.inv(Rxx_d2)@P_d2\n",
    "        \n",
    "\n",
    "        if (np.linalg.norm(w0.flatten(order='F') -\\\n",
    "                           w_d0.flatten(order='F'))**2 < epsilon)\\\n",
    "             or (np.linalg.norm(w1.flatten(order='F') -\\\n",
    "                                w_d1.flatten(order='F'))**2 < epsilon)\\\n",
    "             or (np.linalg.norm(w2.flatten(order='F') -\\\n",
    "                                w_d2.flatten(order='F'))**2 < epsilon):\n",
    "            \n",
    "            W = tl.base.tensor_to_vec(tl.tenalg.multi_mode_dot(I,[w_d0, w_d1, w_d2],modes=[0,1,2]))\n",
    "            w = tl.base.tensor_to_vec(W) \n",
    "            \n",
    "            i = i + 1\n",
    "            break\n",
    "        \n",
    "        w_d0 = w0.reshape(N_d[0], R, order='F')\n",
    "        w_d1 = w1.reshape(N_d[1], R, order='F')\n",
    "        w_d2 = w2.reshape(N_d[2], R, order='F')\n",
    "        \n",
    "        i = i + 1\n",
    "        \n",
    "    #Creating the tensor filter from the matricial coefficients.\n",
    "    W = tl.base.tensor_to_vec(tl.tenalg.multi_mode_dot(I,[w_d0, w_d1, w_d2],modes=[0,1,2]))\n",
    "    #Creating a vector from the tensor for the sake of simplicity in future \n",
    "    # numerical computations.\n",
    "    w = tl.base.tensor_to_vec(W) \n",
    "    \n",
    "    return w,i"
   ]
  },
  {
   "cell_type": "code",
   "execution_count": 340,
   "metadata": {},
   "outputs": [
    {
     "name": "stdout",
     "output_type": "stream",
     "text": [
      "Number of Realizations:\n",
      "1\n"
     ]
    }
   ],
   "source": [
    "N,Q,L,U,K,SNR_dB,user = 512,8,4,2,256,15,0\n",
    "N_d = np.array([32,8,2])\n",
    "\n",
    "h = channel(N,Q,L,U)\n",
    "signal_user = modulated_signal(K,U)#From the user i want to filter.\n",
    "signal_matrix = sampled_matrix(signal_user,K,Q,U)\n",
    "[Y,X] = received_signal(signal_matrix,h,N,K,SNR_dB)\n",
    "[w,i] = LRTMMSE_filter(Y,K,N_d,signal_matrix,signal_user,user)\n",
    "print('Number of Realizations:')\n",
    "print(i)"
   ]
  },
  {
   "cell_type": "markdown",
   "metadata": {},
   "source": [
    "## Signal to Interference and Noise Ratio\n",
    "\n",
    "\\begin{equation}\n",
    "    SINR_{out} = \\frac{w^{H} R_{dd} w}{w^{H} (R_{ii} + R_{bb}) w}\n",
    "\\end{equation}\n",
    "\n",
    "Where the Correlation Matrices are:\n",
    "\n",
    "\\begin{equation}\n",
    "    R_{xx} = R_{dd} + R_{ii} + R_{bb}\n",
    "\\end{equation}\n",
    "\n",
    "\\begin{equation}\n",
    "    R_{dd} = H_{u} R_{ss} H^{H}_{u}\n",
    "\\end{equation}\n",
    "\n",
    "\\begin{equation}\n",
    "    R_{ii} = \\sum^{U}_{k \\ne u} H_{j} R_{ss} H^{j}_{H}\n",
    "\\end{equation}\n",
    "\n",
    "\\begin{equation}\n",
    "    R_{ss} = \\sigma^{2}_{s} I_{Q}\n",
    "\\end{equation}\n",
    "\n",
    "\\begin{equation}\n",
    "    R_{bb} = \\sigma^{2}_{n} I_{N}\n",
    "\\end{equation}"
   ]
  },
  {
   "cell_type": "code",
   "execution_count": 580,
   "metadata": {},
   "outputs": [],
   "source": [
    "def sinr(SNR_dB,h,w,u):\n",
    "    \n",
    "    R_ss = np.var(signal_user[:,u])*np.eye(Q)\n",
    "    R_dd = h[:,0:Q]@R_ss@np.conj(h[:,0:Q]).T\n",
    "    \n",
    "    SINR = np.zeros([1,SNR_dB+1],dtype = 'complex')\n",
    "    \n",
    "    for i in range(1,SNR_dB+1):\n",
    "        [Y,X] = received_signal(signal_matrix,h,N,K,i)\n",
    "        R_yy  = np.cov(Y)\n",
    "        R_bb  = (1/i)*np.eye(N)\n",
    "        R_ii = R_yy - (R_bb + R_dd)\n",
    "        SINR[0,i] = (np.conj(w).T@R_dd@w)/(np.conj(w).T@(R_ii+R_bb)@w)\n",
    "    \n",
    "    SINR = (SINR.T)[:,0]\n",
    "    SINR = SINR[1:]\n",
    "    \n",
    "    return SINR"
   ]
  },
  {
   "cell_type": "code",
   "execution_count": null,
   "metadata": {},
   "outputs": [],
   "source": [
    "N,N_d,Q,L,U,K,SNR_dB,user,u = 128,np.array([16,4,2]),8,4,2,512,30,0,0\n",
    "SINR = 0\n",
    "\n",
    "for i in range(0,100):\n",
    "    h = channel(N,Q,L,U)\n",
    "    signal_user = modulated_signal(K,U)\n",
    "    signal_matrix = sampled_matrix(signal_user,K,Q,U)\n",
    "    for j in range(0,100):\n",
    "        [Y,X] = received_signal(signal_matrix,h,N,K,SNR_dB)\n",
    "        [w,i] = LRTMMSE_filter(Y,K,N_d,signal_matrix,signal_user,user)\n",
    "\n",
    "        SINR = SINR + sinr(SNR_dB,h,w,u)"
   ]
  },
  {
   "cell_type": "code",
   "execution_count": null,
   "metadata": {},
   "outputs": [],
   "source": [
    "plt.figure()\n",
    "plt.plot(np.arange(1,SNR_dB+1),10*np.log(np.abs(SINR)))\n",
    "plt.show()"
   ]
  },
  {
   "cell_type": "markdown",
   "metadata": {},
   "source": [
    "## Complexity Analysis\n",
    "\n",
    "\\begin{equation}\n",
    "    P_{MMSE}(N,K) = N^{2}K + NK + O(N^{3}) + N^{2}    \n",
    "\\end{equation}\n",
    "\n",
    "\\begin{equation}\n",
    "    P_{LRTMMSE}(\\{N\\},D,I,K) = I[\\sum^{D}_{d = 1} R(D - 1)NK + N^{2}_{d}K + N_{d}K + O(N^{3}_{d}) + N^{2}_{d}]   \n",
    "\\end{equation}"
   ]
  },
  {
   "cell_type": "code",
   "execution_count": 426,
   "metadata": {},
   "outputs": [],
   "source": [
    "def complexity_analysis(I,R,K):\n",
    "    #I : Number of Interations.\n",
    "    #R : Rank of the Filter.\n",
    "    #K : Size of the Signal\n",
    "    \n",
    "    #Number of Antennas.\n",
    "    N = 512\n",
    "    \n",
    "    #Complexity as Function of K:\n",
    "    \n",
    "    #Order of the Filter\n",
    "    D = 2\n",
    "    K1 = np.arange(1,K+1) \n",
    "    N1 = [64,16]\n",
    "    P_LRTMMSE2 = np.zeros([K,])\n",
    "    for j in range(1,K+1):\n",
    "        for i in range(0,D):\n",
    "            P_LRTMMSE2[j-1,] = P_LRTMMSE2[j-1,] + I*(R*(D-1)*N*j + j*N1[i]**2 + j*N1[i] + N1[i]**3 + N1[i]**2)\n",
    "    \n",
    "    #Order of the Filter\n",
    "    D = 3\n",
    "    K1 = np.arange(1,K+1) \n",
    "    N1 = [64,8,2]\n",
    "    P_LRTMMSE3 = np.zeros([K,])\n",
    "    for j in range(1,K+1):\n",
    "        for i in range(0,D):\n",
    "            P_LRTMMSE3[j-1,] = P_LRTMMSE3[j-1,] + I*(R*(D-1)*N*j + j*N1[i]**2 + j*N1[i] + N1[i]**3 + N1[i]**2)\n",
    "    \n",
    "    #Order of the Filter\n",
    "    D = 4\n",
    "    K1 = np.arange(1,K+1) \n",
    "    N1 = [32,4,4,2]\n",
    "    P_LRTMMSE4 = np.zeros([K,])\n",
    "    for j in range(1,K+1):\n",
    "        for i in range(0,D):\n",
    "            P_LRTMMSE4[j-1,] = P_LRTMMSE4[j-1,] + I*(R*(D-1)*N*j + j*N1[i]**2 + j*N1[i] + N1[i]**3 + N1[i]**2)\n",
    "    \n",
    "    #Order of the Filter\n",
    "    D = 5\n",
    "    K1 = np.arange(1,K+1) \n",
    "    N1 = [16,4,4,2,2]\n",
    "    P_LRTMMSE5 = np.zeros([K,])\n",
    "    for j in range(1,K+1):\n",
    "        for i in range(0,D):\n",
    "            P_LRTMMSE5[j-1,] = P_LRTMMSE5[j-1,] + I*(R*(D-1)*N*j + j*N1[i]**2 + j*N1[i] + N1[i]**3 + N1[i]**2)\n",
    "    \n",
    "    #Order of the Filter\n",
    "    D = 6\n",
    "    K1 = np.arange(1,K+1) \n",
    "    N1 = [8,4,4,2,2,2]\n",
    "    P_LRTMMSE6 = np.zeros([K,])\n",
    "    for j in range(1,K+1):\n",
    "        for i in range(0,D):\n",
    "            P_LRTMMSE6[j-1,] = P_LRTMMSE6[j-1,] + I*(R*(D-1)*N*j + j*N1[i]**2 + j*N1[i] + N1[i]**3 + N1[i]**2)\n",
    "  \n",
    "    P_MMSE = K1*N**2 + K1*N + N**3 + N**2\n",
    "    \n",
    "    plt.figure()\n",
    "    plt.semilogy(K1,P_MMSE, label='MMSE') \n",
    "    plt.semilogy(K1,P_LRTMMSE2, label='LRTMMSE for D = 2') \n",
    "    plt.semilogy(K1,P_LRTMMSE3, label='LRTMMSE for D = 3') \n",
    "    plt.semilogy(K1,P_LRTMMSE4, label='LRTMMSE for D = 4') \n",
    "    plt.semilogy(K1,P_LRTMMSE5, label='LRTMMSE for D = 5') \n",
    "    plt.semilogy(K1,P_LRTMMSE6, label='LRTMMSE for D = 6') \n",
    "    plt.title('Complexity Analysis as a Function of K')\n",
    "    plt.xlabel('Training Sequence of Length K')\n",
    "    plt.ylabel('Number of Products')  \n",
    "    plt.legend()\n",
    "    plt.show()\n",
    "    \n",
    "    #Complexity as Function of N:\n",
    "    D = 3\n",
    "    K = 600\n",
    "    P_MMSE = np.zeros([9,]) \n",
    "    N = [[2,2,2],[4,2,2],[4,4,2],[8,4,2],[16,4,2],[32,4,2],[64,4,2],[128,4,2],[256,4,2]]\n",
    "    \n",
    "    for k in range(0,9):\n",
    "        N1 = np.prod(N[k])\n",
    "        P_MMSE[k,] = P_MMSE[k,] + K*(N1**2) + K*N1 + N1**3 + N1**2\n",
    "    \n",
    "    R = 1\n",
    "    P_LRTMMSE1 = np.zeros([9,])\n",
    "    for j in range(0,9):\n",
    "        N1 = N[j]\n",
    "        for i in range(0,D):\n",
    "            P_LRTMMSE1[j,] = P_LRTMMSE1[j,] + I*(R*(D-1)*np.sum(N1)*K + K*N1[i]**2 + K*N1[i] + N1[i]**3 + N1[i]**2)\n",
    "            \n",
    "    R = 2\n",
    "    P_LRTMMSE2 = np.zeros([9,])\n",
    "    for j in range(0,9):\n",
    "        N1 = N[j]\n",
    "        for i in range(0,D):\n",
    "            P_LRTMMSE2[j,] = P_LRTMMSE2[j,] + I*(R*(D-1)*np.sum(N1)*K + K*N1[i]**2 + K*N1[i] + N1[i]**3 + N1[i]**2)\n",
    "    \n",
    "    R = 3\n",
    "    P_LRTMMSE3 = np.zeros([9,])\n",
    "    for j in range(0,9):\n",
    "        N1 = N[j]\n",
    "        for i in range(0,D):\n",
    "            P_LRTMMSE3[j,] = P_LRTMMSE3[j,] + I*(R*(D-1)*np.sum(N1)*K + K*N1[i]**2 + K*N1[i] + N1[i]**3 + N1[i]**2)\n",
    "            \n",
    "    R = 4\n",
    "    P_LRTMMSE4 = np.zeros([9,])\n",
    "    for j in range(0,9):\n",
    "        N1 = N[j]\n",
    "        for i in range(0,D):\n",
    "            P_LRTMMSE4[j,] = P_LRTMMSE4[j,] + I*(R*(D-1)*np.sum(N1)*K + K*N1[i]**2 + K*N1[i] + N1[i]**3 + N1[i]**2)\n",
    "\n",
    "    plt.figure()\n",
    "    plt.semilogy([8,16,32,64,128,256,512,1024,2048],P_MMSE, label='MMSE') \n",
    "    plt.semilogy([8,16,32,64,128,256,512,1024,2048],P_LRTMMSE1, label='LRTMMSE for R = 1') \n",
    "    plt.semilogy([8,16,32,64,128,256,512,1024,2048],P_LRTMMSE2, label='LRTMMSE for R = 2') \n",
    "    plt.semilogy([8,16,32,64,128,256,512,1024,2048],P_LRTMMSE3, label='LRTMMSE for R = 3') \n",
    "    plt.semilogy([8,16,32,64,128,256,512,1024,2048],P_LRTMMSE4, label='LRTMMSE for R = 4') \n",
    "    plt.title('Complexity Analysis as a Function of N')\n",
    "    plt.xlabel('Number of Antennas N')\n",
    "    plt.ylabel('Number of Products')  \n",
    "    plt.legend()\n",
    "    plt.show()\n",
    "    \n",
    "    #Traçar para em função de D.\n",
    "    return"
   ]
  },
  {
   "cell_type": "code",
   "execution_count": 427,
   "metadata": {},
   "outputs": [
    {
     "data": {
      "image/png": "[encoded data removed]",
      "text/plain": [
       "<Figure size 432x288 with 1 Axes>"
      ]
     },
     "metadata": {
      "needs_background": "light"
     },
     "output_type": "display_data"
    },
    {
     "data": {
      "image/png": "[encoded data removed]",
      "text/plain": [
       "<Figure size 432x288 with 1 Axes>"
      ]
     },
     "metadata": {
      "needs_background": "light"
     },
     "output_type": "display_data"
    }
   ],
   "source": [
    "I,R,K = 2,3,2000\n",
    "complexity_analysis(I,R,K)"
   ]
  }
 ],
 "metadata": {
  "file_extension": ".py",
  "kernelspec": {
   "display_name": "Python 3",
   "language": "python",
   "name": "python3"
  },
  "language_info": {
   "codemirror_mode": {
    "name": "ipython",
    "version": 3
   },
   "file_extension": ".py",
   "mimetype": "text/x-python",
   "name": "python",
   "nbconvert_exporter": "python",
   "pygments_lexer": "ipython3",
   "version": "3.7.6"
  },
  "mimetype": "text/x-python",
  "name": "python",
  "npconvert_exporter": "python",
  "pygments_lexer": "ipython3",
  "version": 3
 },
 "nbformat": 4,
 "nbformat_minor": 4
}
